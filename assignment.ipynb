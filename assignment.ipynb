{
  "metadata": {
    "language_info": {
      "codemirror_mode": {
        "name": "javascript"
      },
      "file_extension": ".js",
      "mimetype": "text/javascript",
      "name": "javascript",
      "nbconvert_exporter": "javascript",
      "pygments_lexer": "javascript",
      "version": "es2017"
    },
    "kernelspec": {
      "name": "javascript",
      "display_name": "JavaScript (Web Worker)",
      "language": "javascript"
    }
  },
  "nbformat_minor": 4,
  "nbformat": 4,
  "cells": [
    {
      "cell_type": "code",
      "source": "// Question 1:\n// Write a program to find all pairs of an integer array whose sum is equal to a given number.\n// Input One: [1, 2, 4, 5, 2, 6, 8, 8, 10, 10, 10, 2]\n// Input Two: 7\n\nfunction findSum(arr, sum) {\n  var resultarr = [];\n  var checkDuplicate = {};\n  for (var i = 0; i < arr.length; i++) {\n    for (var j = i + 1; j < arr.length; j++) {\n      if (arr[i] + arr[j] == sum) {\n        if (checkDuplicate[arr[i]] != true) {\n          resultarr.push([arr[i], arr[j]]);\n          checkDuplicate[arr[i]] = true;\n        }\n      }\n    }\n  }\n  return resultarr;\n}\nconsole.log(findSum([1, 2, 4, 5, 2, 6, 8, 8, 10, 10, 10, 2], 7));",
      "metadata": {
        "trusted": true
      },
      "execution_count": 1,
      "outputs": [
        {
          "name": "stdout",
          "text": "1,6,2,5,5,2\n",
          "output_type": "stream"
        },
        {
          "execution_count": 1,
          "output_type": "execute_result",
          "data": {},
          "metadata": {}
        }
      ]
    },
    {
      "cell_type": "code",
      "source": "// Q2. Write a program to reverse an array in place? \n// In place means you cannot create a new array. \n// You have to update the original array.\n\nfunction reverseArray(arr){\nfor(var i = 0 ; i <= arr.length/2; i++){\n    var tempValue = arr[i];\n    arr[i] = arr[arr.length-1-i];\n    arr[arr.length-1-i] = tempValue;\n}\nreturn arr\n}\nconsole.log(reverseArray([10,5,20,15,50,30,100]));",
      "metadata": {
        "trusted": true
      },
      "execution_count": 2,
      "outputs": [
        {
          "name": "stdout",
          "text": "100,30,50,15,20,5,10\n",
          "output_type": "stream"
        },
        {
          "execution_count": 2,
          "output_type": "execute_result",
          "data": {},
          "metadata": {}
        }
      ]
    },
    {
      "cell_type": "code",
      "source": "//Q3. Write a program to check if two strings are a rotation of each other?\n\nfunction checkRotation(str1, str2){\nif(str1.length == str2.length){\n    var arr1 = str1.split(\"\");\n    var arr2 = str2.split(\"\");\n    arr1.sort();\n    arr2.sort();\n    arr1 = arr1.join('');\n    arr2 = arr2.join('');\n    \n    // console.log(arr1);\n    // console.log(arr2);\n    if(arr1==arr2){\n        return true;\n    }\n}\nreturn false\n}\nconsole.log(checkRotation(\"jockey\",\"hockey\"));",
      "metadata": {
        "trusted": true
      },
      "execution_count": 3,
      "outputs": [
        {
          "name": "stdout",
          "text": "false\n",
          "output_type": "stream"
        },
        {
          "execution_count": 3,
          "output_type": "execute_result",
          "data": {},
          "metadata": {}
        }
      ]
    },
    {
      "cell_type": "code",
      "source": "// Q4. Write a program to print the first non-repeated character from a string?\nfunction nonRepeatingChar(str){\n    var countChar = {};\n    for(var i =0; i<str.length; i++){\n        var char = str[i];\n        countChar[char] = (countChar[char] || 0) +1;\n    }\n    for(var i=0; i<str.length; i++){\n        var char = str[i];\n        if(countChar[char] == 1){\n            return char;\n        }      \n    }\n    return null;\n\n}\nconsole.log(nonRepeatingChar(\"data\"));",
      "metadata": {
        "trusted": true
      },
      "execution_count": 4,
      "outputs": [
        {
          "name": "stdout",
          "text": "d\n",
          "output_type": "stream"
        },
        {
          "execution_count": 4,
          "output_type": "execute_result",
          "data": {},
          "metadata": {}
        }
      ]
    },
    {
      "cell_type": "code",
      "source": "\n//Q5. Read about the Tower of Hanoi algorithm. Write a program to implement it.\n\nfunction towerOfHanoi(n, sourceRod, auxiliaryRod, targetRod) {\n    if (n === 1) {\n      console.log(`Move disk 1 from ${sourceRod} to ${targetRod}`);\n      return;\n    }\n  \n    towerOfHanoi(n - 1, sourceRod, targetRod, auxiliaryRod);\n    console.log(`Move disk ${n} from ${sourceRod} to ${targetRod}`);\n    towerOfHanoi(n - 1, auxiliaryRod, sourceRod, targetRod);\n  }  \n  towerOfHanoi(3,'A','B','C');",
      "metadata": {
        "trusted": true
      },
      "execution_count": 6,
      "outputs": [
        {
          "name": "stdout",
          "text": "Move disk 1 from A to C\nMove disk 2 from A to B\nMove disk 1 from C to B\nMove disk 3 from A to C\nMove disk 1 from B to A\nMove disk 2 from B to C\nMove disk 1 from A to C\n",
          "output_type": "stream"
        },
        {
          "execution_count": 6,
          "output_type": "execute_result",
          "data": {},
          "metadata": {}
        }
      ]
    },
    {
      "cell_type": "code",
      "source": "\n//Q6. Read about infix, prefix, and postfix expressions.\n// Write a program to convert postfix to prefix expression.\n// Javascript Program to convert postfix to prefix\n\nfunction isOperator(x) {\n  switch (x) {\n    case \"+\":\n    case \"-\":\n    case \"/\":\n    case \"*\":\n      return true;\n  }\n  return false;\n}\n\nfunction postToPre(post_exp) {\n  let s = [];\n\n  let length = post_exp.length;\n\n  for (let i = 0; i < length; i++) {\n    if (isOperator(post_exp[i])) {\n      let op1 = s[s.length - 1];\n      s.pop();\n      let op2 = s[s.length - 1];\n      s.pop();\n\n      let temp = post_exp[i] + op2 + op1;\n\n      s.push(temp);\n    } else {\n      s.push(post_exp[i] + \"\");\n    }\n  }\n\n  let ans = \"\";\n  while (s.length > 0) ans += s.pop();\n  return ans;\n}\n\nlet post_exp = \"ABC/-AK/L-*\";\n\nconsole.log(\"Prefix : \" + postToPre(post_exp));\n",
      "metadata": {
        "trusted": true
      },
      "execution_count": 5,
      "outputs": [
        {
          "name": "stdout",
          "text": "Prefix : *-A/BC-/AKL\n",
          "output_type": "stream"
        },
        {
          "execution_count": 5,
          "output_type": "execute_result",
          "data": {},
          "metadata": {}
        }
      ]
    },
    {
      "cell_type": "code",
      "source": "\n//Q7. Write a program to convert prefix expression to infix expression.\nfunction isOperator(x) {\n  switch (x) {\n    case \"+\":\n    case \"-\":\n    case \"*\":\n    case \"/\":\n    case \"^\":\n    case \"%\":\n      return true;\n  }\n  return false;\n}\n\nfunction convert(str) {\n  let stack = [];\n\n  let l = str.length;\n\n  for (let i = l - 1; i >= 0; i--) {\n    let c = str[i];\n\n    if (isOperator(c)) {\n      let op1 = stack[stack.length - 1];\n      stack.pop();\n      let op2 = stack[stack.length - 1];\n      stack.pop();\n\n      let temp = \"(\" + op1 + c + op2 + \")\";\n      stack.push(temp);\n    } else {\n      stack.push(c + \"\");\n    }\n  }\n  return stack[stack.length - 1];\n}\n\nlet exp = \"*-A/BC-/AKL\";\nconsole.log(\"Infix : \" + convert(exp));",
      "metadata": {
        "trusted": true
      },
      "execution_count": 7,
      "outputs": [
        {
          "name": "stdout",
          "text": "Infix : ((A-(B/C))*((A/K)-L))\n",
          "output_type": "stream"
        },
        {
          "execution_count": 7,
          "output_type": "execute_result",
          "data": {},
          "metadata": {}
        }
      ]
    },
    {
      "cell_type": "code",
      "source": "\n// Q8. Write a program to check if all the brackets are closed in a given code snippet.\nfunction balancedBrackets(arr) {\n  var stack = [];\n  for (var i = 0; i < arr.length; i++) {\n      var current_bracket = arr[i]\n      if (current_bracket == '(' || current_bracket == '[' || current_bracket == '{') {\n          stack.push(current_bracket)\n      } else if (current_bracket == ')' || current_bracket == ']' || current_bracket == '}') {\n          if (stack.length == 0) {\n              return false;\n          }\n          var last = stack.pop()\n          if ((current_bracket == ')' && last != '(') || (current_bracket == ']' && last != '[') || (current_bracket == '}' && last != '{')) {\n              return false\n          }\n      }\n  }\n  return stack.length == 0\n}\nconsole.log(balancedBrackets(['{','}']));",
      "metadata": {
        "trusted": true
      },
      "execution_count": 8,
      "outputs": [
        {
          "name": "stdout",
          "text": "true\n",
          "output_type": "stream"
        },
        {
          "execution_count": 8,
          "output_type": "execute_result",
          "data": {},
          "metadata": {}
        }
      ]
    },
    {
      "cell_type": "code",
      "source": "\n//Q9. Write a program to reverse a stack.\nfunction reverseItems(){\n    var Input= [13, 11, 8, 4, 19, 22];\n    var emptyStack = [];\n    var length = Input.length\n    for(var i = 0; i<length; i++){\n\n        var poppedItem = Input.pop();\n        \n       emptyStack.push(poppedItem);\n\n    }\n    return emptyStack;\n}\n console.log(reverseItems());",
      "metadata": {
        "trusted": true
      },
      "execution_count": 10,
      "outputs": [
        {
          "name": "stdout",
          "text": "22,19,4,8,11,13\n",
          "output_type": "stream"
        },
        {
          "execution_count": 10,
          "output_type": "execute_result",
          "data": {},
          "metadata": {}
        }
      ]
    },
    {
      "cell_type": "code",
      "source": "\n //Q10. Write a program to find the smallest number using a stack.\n class Stack{\n  constructor(){\n      this.items = [];\n      this.length = 0;\n      this.push = function(value){\n          this.items[this.items.length] = value;\n          this.length++ ;\n      }\n      this.pop = function(){\n         \n          this.length--;\n         return this.items.pop();          \n      }\n      this.peek = function(){\n         return this.items[this.items.length-1];\n      } \n  }\n}\n\nfunction smallestNumberInStack(stack){\n  var min = stack.peek();\n    var length = stack.length;\n  for(var i=0; i<length; i++){\n    var stackedItem = stack.pop();\n    if(stackedItem < min){\n      min=stackedItem;\n    }\n\n  }\nreturn min;\n}\nconst stack = new Stack;\nstack.push(10);\nstack.push(20);\nstack.push(40);\nstack.push(30);\nstack.push(50);\n\nconsole.log(smallestNumberInStack(stack));",
      "metadata": {
        "trusted": true
      },
      "execution_count": 13,
      "outputs": [
        {
          "name": "stdout",
          "text": "10\n",
          "output_type": "stream"
        },
        {
          "execution_count": 13,
          "output_type": "execute_result",
          "data": {},
          "metadata": {}
        }
      ]
    },
    {
      "cell_type": "code",
      "source": "",
      "metadata": {},
      "execution_count": null,
      "outputs": []
    }
  ]
}